{
  "nbformat": 4,
  "nbformat_minor": 0,
  "metadata": {
    "colab": {
      "provenance": []
    },
    "kernelspec": {
      "name": "python3",
      "display_name": "Python 3"
    },
    "language_info": {
      "name": "python"
    },
    "accelerator": "GPU",
    "gpuClass": "standard"
  },
  "cells": [
    {
      "cell_type": "code",
      "execution_count": 223,
      "metadata": {
        "id": "NymckdyJJDii"
      },
      "outputs": [],
      "source": [
        "import numpy as np\n",
        "import pandas as pd\n",
        "import torch"
      ]
    },
    {
      "cell_type": "markdown",
      "source": [
        "# LogME"
      ],
      "metadata": {
        "id": "tfVVhGo_eVXj"
      }
    },
    {
      "cell_type": "code",
      "source": [
        "import warnings\n",
        "from tqdm import tqdm\n",
        "import numpy as np\n",
        "from numba import njit\n",
        "\n",
        "\n",
        "@njit\n",
        "def each_evidence(y_, f, fh, v, s, vh, N, D):\n",
        "    \"\"\"\n",
        "    compute the maximum evidence for each class\n",
        "    \"\"\"\n",
        "    epsilon = 1e-5\n",
        "    alpha = 1.0\n",
        "    beta = 1.0\n",
        "    lam = alpha / beta\n",
        "    tmp = (vh @ (f @ np.ascontiguousarray(y_)))\n",
        "    for _ in range(11):\n",
        "        # should converge after at most 10 steps\n",
        "        # typically converge after two or three steps\n",
        "        gamma = (s / (s + lam)).sum()\n",
        "        # A = v @ np.diag(alpha + beta * s) @ v.transpose() # no need to compute A\n",
        "        # A_inv = v @ np.diag(1.0 / (alpha + beta * s)) @ v.transpose() # no need to compute A_inv\n",
        "        m = v @ (tmp * beta / (alpha + beta * s))\n",
        "        alpha_de = (m * m).sum()\n",
        "        alpha = gamma / (alpha_de + epsilon)\n",
        "        beta_de = ((y_ - fh @ m) ** 2).sum()\n",
        "        beta = (N - gamma) / (beta_de + epsilon)\n",
        "        new_lam = alpha / beta\n",
        "        if np.abs(new_lam - lam) / lam < 0.01:\n",
        "            break\n",
        "        lam = new_lam\n",
        "    evidence = D / 2.0 * np.log(alpha) \\\n",
        "               + N / 2.0 * np.log(beta) \\\n",
        "               - 0.5 * np.sum(np.log(alpha + beta * s)) \\\n",
        "               - beta / 2.0 * (beta_de + epsilon) \\\n",
        "               - alpha / 2.0 * (alpha_de + epsilon) \\\n",
        "               - N / 2.0 * np.log(2 * np.pi)\n",
        "    return evidence / N, alpha, beta, m\n",
        "\n",
        "\n",
        "# use pseudo data to compile the function\n",
        "# D = 20, N = 50\n",
        "f_tmp = np.random.randn(20, 50).astype(np.float64)\n",
        "each_evidence(np.random.randint(0, 2, 50).astype(np.float64), f_tmp, f_tmp.transpose(), np.eye(20, dtype=np.float64), np.ones(20, dtype=np.float64), np.eye(20, dtype=np.float64), 50, 20)\n",
        "\n",
        "\n",
        "@njit\n",
        "def truncated_svd(x):\n",
        "    u, s, vh = np.linalg.svd(x.transpose() @ x)\n",
        "    s = np.sqrt(s)\n",
        "    u_times_sigma = x @ vh.transpose()\n",
        "    k = np.sum((s > 1e-10) * 1)  # rank of f\n",
        "    s = s.reshape(-1, 1)\n",
        "    s = s[:k]\n",
        "    vh = vh[:k]\n",
        "    u = u_times_sigma[:, :k] / s.reshape(1, -1)\n",
        "    return u, s, vh\n",
        "truncated_svd(np.random.randn(20, 10).astype(np.float64))\n",
        "\n",
        "\n",
        "class LogME(object):\n",
        "    def __init__(self, regression=False):\n",
        "        \"\"\"\n",
        "            :param regression: whether regression\n",
        "        \"\"\"\n",
        "        self.regression = regression\n",
        "        self.fitted = False\n",
        "        self.reset()\n",
        "\n",
        "    def reset(self):\n",
        "        self.num_dim = 0\n",
        "        self.alphas = []  # alpha for each class / dimension\n",
        "        self.betas = []  # beta for each class / dimension\n",
        "        # self.ms.shape --> [C, D]\n",
        "        self.ms = []  # m for each class / dimension\n",
        "\n",
        "    def _fit_icml(self, f: np.ndarray, y: np.ndarray):\n",
        "        \"\"\"\n",
        "        LogME calculation proposed in the ICML 2021 paper\n",
        "        \"LogME: Practical Assessment of Pre-trained Models for Transfer Learning\"\n",
        "        at http://proceedings.mlr.press/v139/you21b.html\n",
        "        \"\"\"\n",
        "        fh = f\n",
        "        f = f.transpose()\n",
        "        D, N = f.shape\n",
        "        v, s, vh = np.linalg.svd(f @ fh, full_matrices=True)\n",
        "\n",
        "        evidences = []\n",
        "        self.num_dim = y.shape[1] if self.regression else int(y.max() + 1)\n",
        "        for i in tqdm(range(self.num_dim)):\n",
        "            y_ = y[:, i] if self.regression else (y == i).astype(np.float64)\n",
        "            evidence, alpha, beta, m = each_evidence(y_, f, fh, v, s, vh, N, D)\n",
        "            evidences.append(evidence)\n",
        "            self.alphas.append(alpha)\n",
        "            self.betas.append(beta)\n",
        "            self.ms.append(m)\n",
        "        self.ms = np.stack(self.ms)\n",
        "        return np.mean(evidences)\n",
        "\n",
        "    def _fit_fixed_point(self, f: np.ndarray, y: np.ndarray):\n",
        "        \"\"\"\n",
        "        LogME calculation proposed in the arxiv 2021 paper\n",
        "        \"Ranking and Tuning Pre-trained Models: A New Paradigm of Exploiting Model Hubs\"\n",
        "        at https://arxiv.org/abs/2110.10545\n",
        "        \"\"\"\n",
        "        N, D = f.shape  # k = min(N, D)\n",
        "        if N > D: # direct SVD may be expensive\n",
        "            u, s, vh = truncated_svd(f)\n",
        "        else:\n",
        "            u, s, vh = np.linalg.svd(f, full_matrices=False)\n",
        "        # u.shape = N x k\n",
        "        # s.shape = k\n",
        "        # vh.shape = k x D\n",
        "        s = s.reshape(-1, 1)\n",
        "        sigma = (s ** 2)\n",
        "\n",
        "        evidences = []\n",
        "        self.num_dim = y.shape[1] if self.regression else int(y.max() + 1)\n",
        "        for i in range(self.num_dim):\n",
        "            y_ = y[:, i] if self.regression else (y == i).astype(np.float64)\n",
        "            y_ = y_.reshape(-1, 1)\n",
        "            x = u.T @ y_  # x has shape [k, 1], but actually x should have shape [N, 1]\n",
        "            x2 = x ** 2\n",
        "            res_x2 = (y_ ** 2).sum() - x2.sum()  # if k < N, we compute sum of xi for 0 singular values directly\n",
        "\n",
        "            alpha, beta = 1.0, 1.0\n",
        "            for _ in range(11):\n",
        "                t = alpha / beta\n",
        "                gamma = (sigma / (sigma + t)).sum()\n",
        "                m2 = (sigma * x2 / ((t + sigma) ** 2)).sum()\n",
        "                res2 = (x2 / ((1 + sigma / t) ** 2)).sum() + res_x2\n",
        "                alpha = gamma / (m2 + 1e-5)\n",
        "                beta = (N - gamma) / (res2 + 1e-5)\n",
        "                t_ = alpha / beta\n",
        "                evidence = D / 2.0 * np.log(alpha) \\\n",
        "                           + N / 2.0 * np.log(beta) \\\n",
        "                           - 0.5 * np.sum(np.log(alpha + beta * sigma)) \\\n",
        "                           - beta / 2.0 * res2 \\\n",
        "                           - alpha / 2.0 * m2 \\\n",
        "                           - N / 2.0 * np.log(2 * np.pi)\n",
        "                evidence /= N\n",
        "                if abs(t_ - t) / t <= 1e-3:  # abs(t_ - t) <= 1e-5 or abs(1 / t_ - 1 / t) <= 1e-5:\n",
        "                    break\n",
        "            evidence = D / 2.0 * np.log(alpha) \\\n",
        "                       + N / 2.0 * np.log(beta) \\\n",
        "                       - 0.5 * np.sum(np.log(alpha + beta * sigma)) \\\n",
        "                       - beta / 2.0 * res2 \\\n",
        "                       - alpha / 2.0 * m2 \\\n",
        "                       - N / 2.0 * np.log(2 * np.pi)\n",
        "            evidence /= N\n",
        "            m = 1.0 / (t + sigma) * s * x\n",
        "            m = (vh.T @ m).reshape(-1)\n",
        "            evidences.append(evidence)\n",
        "            self.alphas.append(alpha)\n",
        "            self.betas.append(beta)\n",
        "            self.ms.append(m)\n",
        "        self.ms = np.stack(self.ms)\n",
        "        return np.mean(evidences)\n",
        "\n",
        "    _fit = _fit_fixed_point\n",
        "\n",
        "    def fit(self, f: np.ndarray, y: np.ndarray):\n",
        "        \"\"\"\n",
        "        :param f: [N, F], feature matrix from pre-trained model\n",
        "        :param y: target labels.\n",
        "            For classification, y has shape [N] with element in [0, C_t).\n",
        "            For regression, y has shape [N, C] with C regression-labels\n",
        "        :return: LogME score (how well f can fit y directly)\n",
        "        \"\"\"\n",
        "        if self.fitted:\n",
        "            warnings.warn('re-fitting for new data. old parameters cleared.')\n",
        "            self.reset()\n",
        "        else:\n",
        "            self.fitted = True\n",
        "        f = f.astype(np.float64)\n",
        "        if self.regression:\n",
        "            y = y.astype(np.float64)\n",
        "            if len(y.shape) == 1:\n",
        "                y = y.reshape(-1, 1)\n",
        "        return self._fit(f, y)\n",
        "\n",
        "    def predict(self, f: np.ndarray):\n",
        "        \"\"\"\n",
        "        :param f: [N, F], feature matrix\n",
        "        :return: prediction, return shape [N, X]\n",
        "        \"\"\"\n",
        "        if not self.fitted:\n",
        "            raise RuntimeError(\"not fitted, please call fit first\")\n",
        "        f = f.astype(np.float64)\n",
        "        logits = f @ self.ms.T\n",
        "        if self.regression:\n",
        "            return logits\n",
        "        return np.argmax(logits, axis=-1)"
      ],
      "metadata": {
        "id": "BR5YqdAYJPIK"
      },
      "execution_count": 224,
      "outputs": []
    },
    {
      "cell_type": "code",
      "source": [
        "import pickle\n",
        "with open(\"/content/drive/MyDrive/LogME-CTC/PR_hubert_ranking_layer_0.pkl\", \"rb\") as fp:   # Unpickling\n",
        " pickle_feature = pickle.load(fp)\n",
        "sample_feature = pickle_feature[0][0].cpu().numpy()\n",
        "sample_feature.shape # the feature of sample 1"
      ],
      "metadata": {
        "colab": {
          "base_uri": "https://localhost:8080/"
        },
        "id": "hRcn_Y5IJxDo",
        "outputId": "bcdfd481-877a-43e2-802c-f4362271309a"
      },
      "execution_count": 225,
      "outputs": [
        {
          "output_type": "execute_result",
          "data": {
            "text/plain": [
              "(1695, 768)"
            ]
          },
          "metadata": {},
          "execution_count": 225
        }
      ]
    },
    {
      "cell_type": "code",
      "source": [
        "log_prob = np.load(\"/content/drive/MyDrive/LogME-CTC/PR_log_prob_sample1.npy\")\n",
        "torch.from_numpy(log_prob).transpose(0,1)[0].shape\n",
        "log_prob = torch.from_numpy(log_prob).transpose(0,1).argmax(dim=-1).numpy()[0]\n",
        "log_prob[:50]"
      ],
      "metadata": {
        "colab": {
          "base_uri": "https://localhost:8080/"
        },
        "id": "_hLcdWAPJxJ1",
        "outputId": "2fdee287-b008-4410-aa25-01ca30472144"
      },
      "execution_count": 226,
      "outputs": [
        {
          "output_type": "execute_result",
          "data": {
            "text/plain": [
              "array([ 0,  0,  0,  0,  0,  0,  0,  0,  0,  0,  0,  0,  0,  0,  0,  0,  0,\n",
              "       11,  0,  0, 59, 59,  0, 60, 60, 60, 60, 43, 43,  0,  0,  0, 11, 11,\n",
              "        0,  0,  0,  0, 70, 70, 34, 34,  0,  0, 61, 61,  0, 39,  0,  0])"
            ]
          },
          "metadata": {},
          "execution_count": 226
        }
      ]
    },
    {
      "cell_type": "code",
      "source": [
        "label_lst = [11, 59, 60, 43, 11, 70, 34, 61, 11, 25, 38, 30, 37, 28, 59, 61, 59, 60,\n",
        "        43, 59, 30, 69, 34, 25, 62, 61, 34, 23, 11, 47, 70, 40, 62, 23, 52, 62,\n",
        "        59,  9, 61, 11, 59, 36,  9, 46, 60, 11, 49,  9, 49, 25, 25, 39, 59, 46,\n",
        "        70, 21, 11, 61, 68, 25, 36, 15, 58, 38, 30, 59, 52, 60, 11, 47, 36, 12,\n",
        "        50, 46, 60, 11, 49, 72, 70, 31, 36, 71, 67, 61, 11, 49, 21, 61, 26, 28,\n",
        "        58, 70, 31, 60, 43, 24, 28, 46, 61, 26, 11, 48, 15, 36, 15, 49, 38, 30,\n",
        "        36, 40, 50, 37, 30, 72, 59, 40, 58, 45, 34, 48, 72, 46, 58, 34, 61, 11,\n",
        "        49, 62, 58, 40, 24, 40, 50, 37, 47, 39, 60, 48, 10, 49, 71, 11, 36,  9,\n",
        "        46, 24, 30, 30,  9, 49, 25, 47, 34, 25, 42, 46, 58, 34, 61, 11, 49, 48,\n",
        "        40, 59, 61, 30,  9, 49, 25, 48, 40, 59, 39, 72, 69,  9, 49, 25, 30, 57,\n",
        "        68, 47, 48, 40, 59, 61, 30, 38,  9, 58, 42, 46, 58, 28, 59, 70, 29, 47,\n",
        "         9, 49, 25, 38, 39, 59, 59, 40, 59, 61, 30, 45,  6, 49, 61, 34, 47, 30,\n",
        "         9, 49, 25, 38, 39, 59, 59, 40, 59, 61, 30,  9, 49, 25, 48, 40, 59, 61,\n",
        "        30, 24,  6, 58, 11, 47, 72, 59, 48, 41, 62, 38, 67, 48, 62, 43, 69, 49,\n",
        "        39, 50, 57, 34, 57, 30, 72, 48, 28, 49, 60, 11, 49, 25, 11, 59, 47, 21,\n",
        "        46, 47, 42, 61, 51, 23, 42, 71, 66, 49, 21, 61, 39, 25, 59, 61, 34, 61,\n",
        "        59, 59, 28, 49, 11, 61, 30, 36, 58, 12, 48, 49, 67, 45, 31, 72, 42, 11,\n",
        "        59, 11, 47, 28, 46, 60, 11, 49, 12, 69, 37, 28, 59, 61, 59, 26,  9, 61,\n",
        "        38,  9, 25, 23, 11, 49, 25, 39, 61, 31, 48, 11, 49, 25, 11, 49, 49, 52,\n",
        "        49, 61, 51, 62, 38, 52, 59, 61, 11, 59, 23, 21, 62, 48, 43, 61, 39, 50,\n",
        "        12, 69, 46,  6, 61, 11, 49, 40, 49, 61, 58, 11, 59, 61, 59, 31, 47, 42,\n",
        "        30, 39, 49, 62, 25, 34,  1]\n",
        "label_set = list(set(label_lst))\n",
        "print(label_set[:50])"
      ],
      "metadata": {
        "id": "sPGjTDYQKxJf",
        "colab": {
          "base_uri": "https://localhost:8080/"
        },
        "outputId": "0d7c7e1d-74e1-4f9c-a670-0f2db1567bb0"
      },
      "execution_count": 227,
      "outputs": [
        {
          "output_type": "stream",
          "name": "stdout",
          "text": [
            "[1, 6, 9, 10, 11, 12, 15, 21, 23, 24, 25, 26, 28, 29, 30, 31, 34, 36, 37, 38, 39, 40, 41, 42, 43, 45, 46, 47, 48, 49, 50, 51, 52, 57, 58, 59, 60, 61, 62, 66, 67, 68, 69, 70, 71, 72]\n"
          ]
        }
      ]
    },
    {
      "cell_type": "code",
      "source": [
        "#for label in label_set:\n",
        "label = label_set[0]\n",
        "feat_index = np.where(log_prob == label)[0]\n",
        "feat_index, label"
      ],
      "metadata": {
        "colab": {
          "base_uri": "https://localhost:8080/"
        },
        "id": "jjK_axpbLNzx",
        "outputId": "87f791ff-6cf3-46d5-9acd-b953007a1ddc"
      },
      "execution_count": 228,
      "outputs": [
        {
          "output_type": "execute_result",
          "data": {
            "text/plain": [
              "(array([1692, 1693, 1694]), 1)"
            ]
          },
          "metadata": {},
          "execution_count": 228
        }
      ]
    },
    {
      "cell_type": "code",
      "source": [
        "sample_feature.shape\n",
        "label\n",
        "log_prob[:50]\n",
        "label = 11\n",
        "feat_index = np.where(log_prob == label)[0]\n",
        "sample_feature[feat_index].shape"
      ],
      "metadata": {
        "colab": {
          "base_uri": "https://localhost:8080/"
        },
        "id": "3upP0FUGMX1a",
        "outputId": "a96e42e7-17c3-4d0c-99dc-d63652945c41"
      },
      "execution_count": 229,
      "outputs": [
        {
          "output_type": "execute_result",
          "data": {
            "text/plain": [
              "(36, 768)"
            ]
          },
          "metadata": {},
          "execution_count": 229
        }
      ]
    },
    {
      "cell_type": "code",
      "source": [
        "np.where(log_prob == 11), log_prob[:50]"
      ],
      "metadata": {
        "colab": {
          "base_uri": "https://localhost:8080/"
        },
        "id": "j7sYfHldQDXw",
        "outputId": "95f5b831-f7b4-41eb-fd26-4891f3a77135"
      },
      "execution_count": 230,
      "outputs": [
        {
          "output_type": "execute_result",
          "data": {
            "text/plain": [
              "((array([  17,   32,   33,  123,  124,  169,  170,  194,  239,  292,  293,\n",
              "          313,  441,  569,  703,  704, 1189, 1190, 1197, 1256, 1257, 1285,\n",
              "         1356, 1365, 1366, 1381, 1425, 1448, 1449, 1461, 1510, 1511, 1583,\n",
              "         1584, 1603, 1604]),),\n",
              " array([ 0,  0,  0,  0,  0,  0,  0,  0,  0,  0,  0,  0,  0,  0,  0,  0,  0,\n",
              "        11,  0,  0, 59, 59,  0, 60, 60, 60, 60, 43, 43,  0,  0,  0, 11, 11,\n",
              "         0,  0,  0,  0, 70, 70, 34, 34,  0,  0, 61, 61,  0, 39,  0,  0]))"
            ]
          },
          "metadata": {},
          "execution_count": 230
        }
      ]
    },
    {
      "cell_type": "markdown",
      "source": [
        "# Observations of the alignments\n",
        "## when the label is 11\n",
        "* 單獨一個frame[169]: 4116.7936, 大部分都是4XXX多\n",
        "* 第32/33個frame predict出來的score相加: 2130.057\n",
        "* 第123/124個frame predict出來的score相加: 2129.4805\n",
        "* 第169/170個frame predict出來的score相加: 2131.3746\n",
        "\n",
        "## when the label is 60\n",
        "* 四個frame ([23,24,25,26])的score是1172\n",
        "* 三個frame ([75, 76, 77])的score是1519\n",
        "* 23 ==> 4439.9755\n",
        "\n"
      ],
      "metadata": {
        "id": "F0f3oTnmSqDG"
      }
    },
    {
      "cell_type": "code",
      "source": [
        "import matplotlib.pyplot as plt\n",
        "import numpy as np\n",
        "plt.figure(figsize = (50,15))\n",
        "plt.imshow(sample_feature[:50],interpolation='nearest')\n",
        "plt.show()"
      ],
      "metadata": {
        "id": "O3TIHjuj2zhD",
        "colab": {
          "base_uri": "https://localhost:8080/",
          "height": 116
        },
        "outputId": "aecfe346-0632-40c2-ac48-2dee6d73dea8"
      },
      "execution_count": 231,
      "outputs": [
        {
          "output_type": "display_data",
          "data": {
            "text/plain": [
              "<Figure size 3600x1080 with 1 Axes>"
            ],
            "image/png": "[encoded data removed]"
          },
          "metadata": {
            "needs_background": "light"
          }
        }
      ]
    },
    {
      "cell_type": "code",
      "source": [
        "sample_feature[0].shape"
      ],
      "metadata": {
        "colab": {
          "base_uri": "https://localhost:8080/"
        },
        "id": "W1N3nf4S1cqK",
        "outputId": "ca17d25f-a959-43ae-866e-eec59d2243c3"
      },
      "execution_count": 232,
      "outputs": [
        {
          "output_type": "execute_result",
          "data": {
            "text/plain": [
              "(768,)"
            ]
          },
          "metadata": {},
          "execution_count": 232
        }
      ]
    },
    {
      "cell_type": "code",
      "source": [
        "#np.concatenate((a, b), axis=None)\n",
        "sample_feature[[23, 24, 25, 26]].shape\n",
        "feature = np.array([np.concatenate((sample_feature[23],sample_feature[24],sample_feature[25],sample_feature[26]))])"
      ],
      "metadata": {
        "id": "dCndoKPJ0hdB"
      },
      "execution_count": 237,
      "outputs": []
    },
    {
      "cell_type": "code",
      "source": [
        "#framewise\n",
        "label = 60\n",
        "feat_index = np.where(log_prob == label)[0]\n",
        "print(len(feat_index))\n",
        "\n",
        "feat_index = np.where(log_prob == label)[0]\n",
        "logme = LogME(regression=False)\n",
        "score = logme._fit_fixed_point(sample_feature[[23, 24, 25, 26]], np.array([60] * 4))\n",
        "print(label, score)\n",
        "  \n",
        "# 一個feature算一個score應該會不準吧\n",
        "# 發現不同的feature size出來會有不同的logme score，當feature 餵進去的size越小，出來的logme score越大\n",
        "\n",
        "# 每一個不同的phonene prediction出來的scale會有一點點不同"
      ],
      "metadata": {
        "colab": {
          "base_uri": "https://localhost:8080/"
        },
        "id": "KRwEhGzDSUgT",
        "outputId": "fcb2b02b-a217-494f-ccf5-83a29bbaf8da"
      },
      "execution_count": 235,
      "outputs": [
        {
          "output_type": "stream",
          "name": "stdout",
          "text": [
            "23\n",
            "60 1172.3016038978526\n"
          ]
        }
      ]
    },
    {
      "cell_type": "code",
      "source": [
        "from tqdm import tqdm\n",
        "layer_num = 0\n",
        "for layer_num in range(12):\n",
        "  with open(f\"/content/drive/MyDrive/LogME-CTC/PR_hubert_ranking_layer_{layer_num}.pkl\", \"rb\") as fp:   # Unpickling\n",
        "    pickle_feature = pickle.load(fp)\n",
        "  sample_feature = pickle_feature[0][0].cpu().numpy()\n",
        "  \n",
        "\n",
        "  log_prob = np.load(f\"/content/drive/MyDrive/LogME-CTC/PR_log_prob/PR_hubert_ranking_layer_{layer_num}_PR_log_prob.npy\")\n",
        "  log_prob = torch.from_numpy(log_prob).transpose(0,1).argmax(dim=-1).numpy()[0]\n",
        "  print(np.where(log_prob == 60))\n",
        "  \n",
        "  logme = LogME(regression=False)\n",
        "  score = logme._fit_fixed_point(sample_feature[np.where(log_prob == 60)], np.array([60] * len()))\n",
        "  print(label, score)\n",
        "  print(\"layer_num\", layer_num, \"  score:\",score)"
      ],
      "metadata": {
        "colab": {
          "base_uri": "https://localhost:8080/"
        },
        "id": "7bvEyY3T6498",
        "outputId": "7e823ff9-858c-46af-d4de-b8470ecf24c4"
      },
      "execution_count": 236,
      "outputs": [
        {
          "output_type": "stream",
          "name": "stdout",
          "text": [
            "60 1172.3016038978526\n",
            "layer_num 0   score: 1172.3016038978526\n",
            "60 1163.7222590627011\n",
            "layer_num 1   score: 1163.7222590627011\n",
            "60 1171.408271128615\n",
            "layer_num 2   score: 1171.408271128615\n",
            "60 1171.408248725115\n",
            "layer_num 3   score: 1171.408248725115\n",
            "60 1181.7931254639998\n",
            "layer_num 4   score: 1181.7931254639998\n",
            "60 1181.7448647887395\n",
            "layer_num 5   score: 1181.7448647887395\n",
            "60 1181.6781883116248\n",
            "layer_num 6   score: 1181.6781883116248\n",
            "60 1182.2483014213233\n",
            "layer_num 7   score: 1182.2483014213233\n",
            "60 1180.1898101909878\n",
            "layer_num 8   score: 1180.1898101909878\n",
            "60 1178.4011323970965\n",
            "layer_num 9   score: 1178.4011323970965\n",
            "60 1164.3909487925748\n",
            "layer_num 10   score: 1164.3909487925748\n",
            "60 1162.7793599091162\n",
            "layer_num 11   score: 1162.7793599091162\n"
          ]
        }
      ]
    },
    {
      "cell_type": "code",
      "source": [
        "sample_feature[feat_index].reshape(1, 2 * 768).shape"
      ],
      "metadata": {
        "colab": {
          "base_uri": "https://localhost:8080/"
        },
        "id": "9PQIRseKBQet",
        "outputId": "cbf81cd8-a774-4eae-e5d6-4aad726228c8"
      },
      "execution_count": 248,
      "outputs": [
        {
          "output_type": "execute_result",
          "data": {
            "text/plain": [
              "(1, 1536)"
            ]
          },
          "metadata": {},
          "execution_count": 248
        }
      ]
    },
    {
      "cell_type": "code",
      "source": [
        "from tqdm import tqdm\n",
        "layer_num = 0\n",
        "label = 60\n",
        "for layer_num in range(12):\n",
        "  with open(f\"/content/drive/MyDrive/LogME-CTC/PR_hubert_ranking_layer_{layer_num}.pkl\", \"rb\") as fp:   # Unpickling\n",
        "    pickle_feature = pickle.load(fp)\n",
        "  sample_feature = pickle_feature[0][0].cpu().numpy()\n",
        "  #feature = np.array([np.concatenate((sample_feature[23],sample_feature[24],sample_feature[25],sample_feature[26]))])\n",
        "\n",
        "  log_prob = np.load(f\"/content/drive/MyDrive/LogME-CTC/PR_log_prob/PR_hubert_ranking_layer_{layer_num}_PR_log_prob.npy\")\n",
        "  log_prob = torch.from_numpy(log_prob).transpose(0,1).argmax(dim=-1).numpy()[0]\n",
        "  \n",
        "  feat_index = np.where(log_prob == label)[0][:2]\n",
        "  print(feat_index)\n",
        "  \n",
        "  logme = LogME(regression=False)\n",
        "  score = logme._fit_fixed_point(sample_feature[feat_index].reshape(1, 2 * 768), np.array([label] * 1))\n",
        "  print(label, score)\n",
        "  print(\"layer_num\", layer_num, \"  score:\",score)"
      ],
      "metadata": {
        "colab": {
          "base_uri": "https://localhost:8080/"
        },
        "id": "Oxe_zTnD9HVz",
        "outputId": "7ecbe879-6f95-4e9d-ea0c-aeb4ee8036e0"
      },
      "execution_count": 249,
      "outputs": [
        {
          "output_type": "stream",
          "name": "stdout",
          "text": [
            "[21 22]\n",
            "60 8712.155827399849\n",
            "layer_num 0   score: 8712.155827399849\n",
            "[21 22]\n",
            "60 8584.853748186359\n",
            "layer_num 1   score: 8584.853748186359\n",
            "[21 22]\n",
            "60 8713.827464615644\n",
            "layer_num 2   score: 8713.827464615644\n",
            "[23 24]\n",
            "60 8710.658922891516\n",
            "layer_num 3   score: 8710.658922891516\n",
            "[21 22]\n",
            "60 8705.42895673823\n",
            "layer_num 4   score: 8705.42895673823\n",
            "[21 22]\n",
            "60 8703.996860204243\n",
            "layer_num 5   score: 8703.996860204243\n",
            "[21 22]\n",
            "60 8708.73928180184\n",
            "layer_num 6   score: 8708.73928180184\n",
            "[23 24]\n",
            "60 8714.302907236883\n",
            "layer_num 7   score: 8714.302907236883\n",
            "[24 25]\n",
            "60 8714.162553873466\n",
            "layer_num 8   score: 8714.162553873466\n",
            "[24 25]\n",
            "60 8716.144534678362\n",
            "layer_num 9   score: 8716.144534678362\n",
            "[21 22]\n",
            "60 8609.680064259344\n",
            "layer_num 10   score: 8609.680064259344\n",
            "[21 22]\n",
            "60 8589.321888016226\n",
            "layer_num 11   score: 8589.321888016226\n"
          ]
        }
      ]
    },
    {
      "cell_type": "markdown",
      "source": [
        "# 檢查layer0 - layer 11的Per frame score\n",
        "every single frame with prediction"
      ],
      "metadata": {
        "id": "HsSL8GItVZhi"
      }
    },
    {
      "cell_type": "code",
      "source": [
        "label_lst = [11, 59, 60, 43, 11, 70, 34, 61, 11, 25, 38, 30, 37, 28, 59, 61, 59, 60,\n",
        "        43, 59, 30, 69, 34, 25, 62, 61, 34, 23, 11, 47, 70, 40, 62, 23, 52, 62,\n",
        "        59,  9, 61, 11, 59, 36,  9, 46, 60, 11, 49,  9, 49, 25, 25, 39, 59, 46,\n",
        "        70, 21, 11, 61, 68, 25, 36, 15, 58, 38, 30, 59, 52, 60, 11, 47, 36, 12,\n",
        "        50, 46, 60, 11, 49, 72, 70, 31, 36, 71, 67, 61, 11, 49, 21, 61, 26, 28,\n",
        "        58, 70, 31, 60, 43, 24, 28, 46, 61, 26, 11, 48, 15, 36, 15, 49, 38, 30,\n",
        "        36, 40, 50, 37, 30, 72, 59, 40, 58, 45, 34, 48, 72, 46, 58, 34, 61, 11,\n",
        "        49, 62, 58, 40, 24, 40, 50, 37, 47, 39, 60, 48, 10, 49, 71, 11, 36,  9,\n",
        "        46, 24, 30, 30,  9, 49, 25, 47, 34, 25, 42, 46, 58, 34, 61, 11, 49, 48,\n",
        "        40, 59, 61, 30,  9, 49, 25, 48, 40, 59, 39, 72, 69,  9, 49, 25, 30, 57,\n",
        "        68, 47, 48, 40, 59, 61, 30, 38,  9, 58, 42, 46, 58, 28, 59, 70, 29, 47,\n",
        "         9, 49, 25, 38, 39, 59, 59, 40, 59, 61, 30, 45,  6, 49, 61, 34, 47, 30,\n",
        "         9, 49, 25, 38, 39, 59, 59, 40, 59, 61, 30,  9, 49, 25, 48, 40, 59, 61,\n",
        "        30, 24,  6, 58, 11, 47, 72, 59, 48, 41, 62, 38, 67, 48, 62, 43, 69, 49,\n",
        "        39, 50, 57, 34, 57, 30, 72, 48, 28, 49, 60, 11, 49, 25, 11, 59, 47, 21,\n",
        "        46, 47, 42, 61, 51, 23, 42, 71, 66, 49, 21, 61, 39, 25, 59, 61, 34, 61,\n",
        "        59, 59, 28, 49, 11, 61, 30, 36, 58, 12, 48, 49, 67, 45, 31, 72, 42, 11,\n",
        "        59, 11, 47, 28, 46, 60, 11, 49, 12, 69, 37, 28, 59, 61, 59, 26,  9, 61,\n",
        "        38,  9, 25, 23, 11, 49, 25, 39, 61, 31, 48, 11, 49, 25, 11, 49, 49, 52,\n",
        "        49, 61, 51, 62, 38, 52, 59, 61, 11, 59, 23, 21, 62, 48, 43, 61, 39, 50,\n",
        "        12, 69, 46,  6, 61, 11, 49, 40, 49, 61, 58, 11, 59, 61, 59, 31, 47, 42,\n",
        "        30, 39, 49, 62, 25, 34,  1]\n",
        "label_set = list(set(label_lst))\n",
        "len(label_set)"
      ],
      "metadata": {
        "colab": {
          "base_uri": "https://localhost:8080/"
        },
        "id": "rJqTi24eefKP",
        "outputId": "c5cc2f40-e66f-4ae0-8a55-08b89195ccfc"
      },
      "execution_count": null,
      "outputs": [
        {
          "output_type": "execute_result",
          "data": {
            "text/plain": [
              "46"
            ]
          },
          "metadata": {},
          "execution_count": 158
        }
      ]
    },
    {
      "cell_type": "code",
      "source": [
        "from tqdm import tqdm\n",
        "layer_num = 0\n",
        "for layer_num in range(12):\n",
        "  with open(f\"/content/drive/MyDrive/LogME-CTC/PR_hubert_ranking_layer_{layer_num}.pkl\", \"rb\") as fp:   # Unpickling\n",
        "    pickle_feature = pickle.load(fp)\n",
        "  sample_feature = pickle_feature[0][0].cpu().numpy()\n",
        "\n",
        "  log_prob = np.load(f\"/content/drive/MyDrive/LogME-CTC/PR_log_prob/PR_hubert_ranking_layer_{layer_num}_PR_log_prob.npy\")\n",
        "  log_prob = torch.from_numpy(log_prob).transpose(0,1).argmax(dim=-1).numpy()[0]\n",
        "  \n",
        "  total_len = 0\n",
        "  total_score = 0\n",
        "  for label in label_set:\n",
        "   \n",
        "    feat_index = np.where(log_prob == label)[0]\n",
        "    if len(feat_index) == 0:\n",
        "      continue \n",
        "    #print(\"===\",layer_num,\"===\",len(feat_index))\n",
        "    logme_score = 0\n",
        "    for idx in feat_index:\n",
        "      logme = LogME(regression=False)\n",
        "      score = logme._fit_fixed_point(sample_feature[[idx]], np.array([label] * 1))\n",
        "      logme_score += score\n",
        "    total_score += logme_score/len(feat_index)\n",
        "    total_len += 1\n",
        "  print(\"layer_num\", layer_num, \"  score:\",total_score/total_len, total_score, total_len)"
      ],
      "metadata": {
        "colab": {
          "base_uri": "https://localhost:8080/"
        },
        "id": "8jaxkWpLVdCa",
        "outputId": "28ce3336-6183-4f42-a0ba-4693d40949d0"
      },
      "execution_count": null,
      "outputs": [
        {
          "output_type": "stream",
          "name": "stdout",
          "text": [
            "layer_num 0   score: 4246.587586046338 169863.50344185354 40\n",
            "layer_num 1   score: 4136.984048876278 173753.3300528037 42\n",
            "layer_num 2   score: 4251.372805502688 174306.2850256102 41\n",
            "layer_num 3   score: 4251.077791103096 178545.26722633003 42\n",
            "layer_num 4   score: 4244.035100402216 178249.47421689308 42\n",
            "layer_num 5   score: 4240.88077977528 186598.7543101123 44\n",
            "layer_num 6   score: 4243.829723425261 182484.67810728622 43\n",
            "layer_num 7   score: 4249.051850954024 182709.22959102303 43\n",
            "layer_num 8   score: 4250.04795995291 182752.0622779751 43\n",
            "layer_num 9   score: 4252.781213087251 187122.37337583903 44\n",
            "layer_num 10   score: 4145.241977944502 174100.16307366907 42\n",
            "layer_num 11   score: 4139.931146327426 173877.1081457519 42\n"
          ]
        }
      ]
    },
    {
      "cell_type": "code",
      "source": [
        "sample1_score_lst = [4246.587586046338,4136.984048876278,4251.372805502688,4251.077791103096,4244.035100402216,4240.88077977528,4243.829723425261,4249.051850954024,4250.04795995291,4252.781213087251,4145.241977944502,4139.931146327426]\n",
        "len(sample1_score_lst)\n",
        "sample2_score_lst = [4247.380294036029,4131.372238049568,4246.639100919552,4244.575837364068,4239.512707908129,4236.721896782044,4242.051197761734,4244.314656048208,4247.452598626103,4251.081810022576,4133.866253316534,4130.145557752629]\n",
        "len(sample2_score_lst)\n",
        "merge = [sample1_score_lst[i] + sample2_score_lst[i] for i in range(12)]\n",
        "for score in merge:\n",
        "  print(score)"
      ],
      "metadata": {
        "colab": {
          "base_uri": "https://localhost:8080/"
        },
        "id": "tF_fic0Ja-cU",
        "outputId": "7bc3f73d-55e1-466a-d86e-df5376075de5"
      },
      "execution_count": null,
      "outputs": [
        {
          "output_type": "stream",
          "name": "stdout",
          "text": [
            "8493.967880082368\n",
            "8268.356286925846\n",
            "8498.01190642224\n",
            "8495.653628467164\n",
            "8483.547808310344\n",
            "8477.602676557322\n",
            "8485.880921186996\n",
            "8493.366507002233\n",
            "8497.500558579013\n",
            "8503.863023109827\n",
            "8279.108231261036\n",
            "8270.076704080057\n"
          ]
        }
      ]
    },
    {
      "cell_type": "code",
      "source": [
        "from scipy import stats\n",
        "res = stats.spearmanr(merge,[12,9,8,7,6,5,4,3,2,1,10,11])\n",
        "res"
      ],
      "metadata": {
        "colab": {
          "base_uri": "https://localhost:8080/"
        },
        "id": "D6vahk0fgxyd",
        "outputId": "09b1d5d6-4d90-4597-9be4-2de4c6de8a97"
      },
      "execution_count": null,
      "outputs": [
        {
          "output_type": "execute_result",
          "data": {
            "text/plain": [
              "SpearmanrResult(correlation=-0.5034965034965035, pvalue=0.09515736659412469)"
            ]
          },
          "metadata": {},
          "execution_count": 166
        }
      ]
    },
    {
      "cell_type": "markdown",
      "source": [
        "### sample 2"
      ],
      "metadata": {
        "id": "2BbsOCa7a-vk"
      }
    },
    {
      "cell_type": "code",
      "source": [
        "label_lst = [11, 58, 44, 46, 11, 49, 59, 41, 47, 42, 34, 60, 11, 49, 23, 42, 61, 70,\n",
        "        43, 49, 62, 61, 67, 46, 11, 49, 36, 47, 40, 46, 61, 39, 50, 58, 42, 46,\n",
        "        70, 21, 58, 48, 11, 49, 61, 59, 40, 72, 39, 36, 28, 46, 61, 39, 25, 23,\n",
        "        21, 11, 58, 42, 59, 15, 58, 61, 61, 51, 48, 34, 46, 23, 39, 47, 43, 69,\n",
        "        48, 28, 49, 42,  9, 49, 25, 41, 49, 61, 58, 11, 46, 11, 61, 57, 11, 47,\n",
        "        21, 61, 11, 23, 72, 31, 69, 11, 49, 59, 39, 72,  9, 49, 25, 59, 52, 60,\n",
        "        11, 47, 25, 67, 61, 42, 72, 12, 69, 11, 59, 29, 58, 11, 48, 52, 49, 42,\n",
        "        11, 47, 49, 34, 24, 30,  6, 58, 25, 39, 69, 28, 47, 11, 57, 61, 48, 28,\n",
        "        49, 42, 15, 58, 37, 11, 49, 11, 72, 34, 60, 11, 49, 72,  6, 58, 36, 18,\n",
        "        49, 25, 39, 25, 70, 40, 62, 59, 12, 48, 59, 57, 28, 60, 11, 59, 11, 23,\n",
        "        45, 28, 46, 61, 12, 69, 11, 48, 43, 47, 71, 30, 34, 60, 11, 49, 27, 48,\n",
        "        23,  6, 25, 42, 25, 39, 49, 26, 28, 58, 11, 36, 40, 60, 11, 47, 59, 61,\n",
        "        21, 47,  9, 49, 25, 61, 21, 61, 11, 47, 26, 28, 58, 40, 72, 48, 12, 24,\n",
        "        46, 12, 48, 39, 50,  9, 49, 25, 37, 52, 39, 50,  9, 49, 25, 11, 25, 43,\n",
        "        47, 12, 69, 61, 15, 46, 61, 51, 62, 28, 49, 25, 26,  9, 61, 62, 61, 15,\n",
        "        46, 30, 72, 48, 34, 49,  6, 61, 38, 34, 69, 11, 46, 34, 73, 11, 49, 61,\n",
        "        51, 58, 39, 36, 47, 28, 46, 61, 15, 49, 38, 70, 12, 61, 40, 72, 62, 39,\n",
        "        36, 28, 46, 24, 66, 11, 47, 29, 46, 11, 49,  6, 48, 39, 46, 69,  9, 47,\n",
        "        71, 66, 12, 69, 26, 28, 58, 61, 58,  9, 36, 39, 46,  1]\n",
        "label_set = list(set(label_lst))\n",
        "len(label_set)"
      ],
      "metadata": {
        "id": "AfeNhcy8ba5R"
      },
      "execution_count": null,
      "outputs": []
    },
    {
      "cell_type": "code",
      "source": [
        "from tqdm import tqdm\n",
        "layer_num = 0\n",
        "for layer_num in range(12):\n",
        "  with open(f\"/content/drive/MyDrive/LogME-CTC/PR_hubert_ranking_layer_{layer_num}.pkl\", \"rb\") as fp:   # Unpickling\n",
        "    pickle_feature = pickle.load(fp)\n",
        "  sample_feature = pickle_feature[1][0].cpu().numpy()\n",
        "\n",
        "  log_prob = np.load(f\"/content/drive/MyDrive/LogME-CTC/PR_log_prob/pr sample 2/PR_hubert_ranking_layer_{layer_num}_PR_log_prob.npy\")\n",
        "  log_prob = torch.from_numpy(log_prob).transpose(0,1).argmax(dim=-1).numpy()[0]\n",
        "  \n",
        "  total_len = 0\n",
        "  total_score = 0\n",
        "  for label in label_set:\n",
        "   \n",
        "    feat_index = np.where(log_prob == label)[0]\n",
        "    if len(feat_index) == 0:\n",
        "      continue \n",
        "    #print(\"===\",layer_num,\"===\",len(feat_index))\n",
        "    logme_score = 0\n",
        "    for idx in feat_index:\n",
        "      logme = LogME(regression=False)\n",
        "      score = logme._fit_fixed_point(sample_feature[[idx]], np.array([label] * 1))\n",
        "      logme_score += score\n",
        "    total_score += logme_score/len(feat_index)\n",
        "    total_len += 1\n",
        "  print(\"layer_num\", layer_num, \"  score:\",total_score/total_len, total_score, total_len)"
      ],
      "metadata": {
        "colab": {
          "base_uri": "https://localhost:8080/"
        },
        "id": "BiGK4Nc1bBmv",
        "outputId": "b5a80ec3-672b-402c-832e-48c46f699676"
      },
      "execution_count": null,
      "outputs": [
        {
          "output_type": "stream",
          "name": "stdout",
          "text": [
            "layer_num 0   score: 4247.380294036029 174142.5920554772 41\n",
            "layer_num 1   score: 4131.372238049568 169386.2617600323 41\n",
            "layer_num 2   score: 4246.639100919552 174112.20313770164 41\n",
            "layer_num 3   score: 4244.575837364068 169783.03349456273 40\n",
            "layer_num 4   score: 4239.512707908129 173820.0210242333 41\n",
            "layer_num 5   score: 4236.721896782044 182179.04156162788 43\n",
            "layer_num 6   score: 4242.051197761734 182408.20150375456 43\n",
            "layer_num 7   score: 4244.314656048208 178261.21555402476 42\n",
            "layer_num 8   score: 4247.452598626103 186887.91433954856 44\n",
            "layer_num 9   score: 4251.081810022576 195549.7632610385 46\n",
            "layer_num 10   score: 4133.866253316534 169488.5163859779 41\n",
            "layer_num 11   score: 4130.145557752629 169335.9678678578 41\n"
          ]
        }
      ]
    },
    {
      "cell_type": "code",
      "source": [
        "label = 59\n",
        "feat_index = np.where(log_prob == label)[0]\n",
        "print(len(feat_index))\n",
        "\n",
        "for label in label_set:\n",
        "  feat_index = np.where(log_prob == label)[0]\n",
        "  if len(feat_index) == 0:\n",
        "      continue\n",
        "  logme = LogME(regression=False)\n",
        "  score = logme._fit_fixed_point(sample_feature[feat_index], np.array([label] * len(feat_index)))\n",
        "  print(label, score)\n",
        "# 一個feature算一個score應該會不準吧\n",
        "# 發現不同的feature size出來會有不同的logme score，當feature 餵進去的size越小，出來的logme score越大\n",
        "\n",
        "# 每一個不同的phonene prediction出來的scale會有一點點不同\n"
      ],
      "metadata": {
        "colab": {
          "base_uri": "https://localhost:8080/"
        },
        "id": "-1np4GRWOixk",
        "outputId": "1912a7c7-b09a-4039-f0f8-55ebab0381e2"
      },
      "execution_count": null,
      "outputs": [
        {
          "output_type": "stream",
          "name": "stdout",
          "text": [
            "56\n",
            "1 1020.369548182051\n",
            "6 1088.1510951420964\n",
            "9 249.07748285208223\n",
            "11 145.89620488201808\n",
            "12 782.269980276406\n",
            "15 787.4525327335698\n",
            "21 450.8485024056677\n",
            "23 546.4849041111667\n",
            "24 608.0553524196022\n",
            "25 302.4387891810425\n",
            "26 1513.653178436279\n",
            "28 321.63983435415554\n",
            "30 195.8829059278649\n",
            "31 611.6461142992534\n",
            "34 391.3615073496954\n",
            "36 288.88714505058437\n",
            "37 803.771465008378\n",
            "38 239.99885043790235\n",
            "39 323.89484676012427\n",
            "40 289.7891213957344\n",
            "42 501.60213777582476\n",
            "43 548.1969313700109\n",
            "45 804.4175167066435\n",
            "46 289.14174346174786\n",
            "47 179.8152926707668\n",
            "48 168.86949675570872\n",
            "49 90.27206337979901\n",
            "50 502.3079889470696\n",
            "51 964.0648912980524\n",
            "52 700.374743961034\n",
            "57 1180.8198574624485\n",
            "58 252.02188630488615\n",
            "59 99.27810272803134\n",
            "60 228.69770003040867\n",
            "61 137.14481178210403\n",
            "62 290.8182309127698\n",
            "66 954.493731541889\n",
            "67 699.3572822120418\n",
            "68 2234.8879131890253\n",
            "69 558.5218517839517\n",
            "70 368.009227059501\n",
            "71 1182.641147227224\n",
            "72 503.2293309329337\n"
          ]
        }
      ]
    },
    {
      "cell_type": "code",
      "source": [
        "\n",
        "#label = label_set[0]\n",
        "\n",
        "for label in label_set:\n",
        "  feat_index = np.where(log_prob == label)[0]\n",
        "  feat_index, label\n",
        "  for idx in feat_index:\n",
        "    logme = LogME(regression=False)\n",
        "    score = logme._fit_fixed_point(np.array([sample_feature[idx].cpu().numpy()]), np.array([label]))"
      ],
      "metadata": {
        "id": "OHPYlxmBOc6P"
      },
      "execution_count": null,
      "outputs": []
    },
    {
      "cell_type": "code",
      "source": [],
      "metadata": {
        "id": "7LDkvAhdMl7H"
      },
      "execution_count": null,
      "outputs": []
    }
  ]
}